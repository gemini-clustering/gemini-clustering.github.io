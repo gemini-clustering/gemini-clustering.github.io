{
  "cells": [
    {
      "cell_type": "markdown",
      "metadata": {},
      "source": [
        "\n# Drawing a decision boundary between two interlacing moons\n\nThis example is a retake from the experiment in the original GEMINI paper where we want to find the true clusters\nin between two facing moons. To do so, the trick is to use a specific distance using the \"precomputed\" option\nwhich will guide the clustering algorithm to the desired solution.\n\nNote that we use :class:`gemclus.mlp.MLPWasserstein` because a linear model would not be able to find the optimal\nboundary.\n"
      ]
    },
    {
      "cell_type": "code",
      "execution_count": null,
      "metadata": {
        "collapsed": false
      },
      "outputs": [],
      "source": [
        "import numpy as np\nfrom matplotlib import pyplot as plt\nfrom scipy.sparse import csgraph\nfrom sklearn import datasets, metrics\n\nfrom gemclus.mlp import MLPWasserstein"
      ]
    },
    {
      "cell_type": "markdown",
      "metadata": {},
      "source": [
        "## Generate two interlacing moons\n\n"
      ]
    },
    {
      "cell_type": "code",
      "execution_count": null,
      "metadata": {
        "collapsed": false
      },
      "outputs": [],
      "source": [
        "X, y = datasets.make_moons(n_samples=200, noise=0.05, random_state=2023)"
      ]
    },
    {
      "cell_type": "markdown",
      "metadata": {},
      "source": [
        "## Pre-compute a specific metric between samples\n\n"
      ]
    },
    {
      "cell_type": "code",
      "execution_count": null,
      "metadata": {
        "collapsed": false
      },
      "outputs": [],
      "source": [
        "# Create an adjacency graph where edges are defined if the distance between two samples is\n# less than the 5% quantile of the Euclidean distances\ndistances = metrics.pairwise_distances(X, metric=\"euclidean\")\nthreshold = np.quantile(distances, 0.05)\nadjacency = distances < threshold\n\n# compute the all-pairs shortest path in this graph\ndistances = csgraph.floyd_warshall(adjacency, directed=False, unweighted=True)\n\n# Replace np.inf with 2 times the size of the matrix\ndistances[np.isinf(distances)] = 2 * distances.shape[0]"
      ]
    },
    {
      "cell_type": "markdown",
      "metadata": {},
      "source": [
        "## Train the model\nNote that we use the precomputed option and pass our distance to the `.fit` function along `X`.\n\n"
      ]
    },
    {
      "cell_type": "code",
      "execution_count": null,
      "metadata": {
        "collapsed": false
      },
      "outputs": [],
      "source": [
        "model = MLPWasserstein(n_clusters=2, metric=\"precomputed\", random_state=2023, learning_rate=1e-2)\ny_pred = model.fit_predict(X, distances)"
      ]
    },
    {
      "cell_type": "markdown",
      "metadata": {},
      "source": [
        "## Final Clustering\n\n"
      ]
    },
    {
      "cell_type": "code",
      "execution_count": null,
      "metadata": {
        "collapsed": false
      },
      "outputs": [],
      "source": [
        "x_vals = np.linspace(X[:, 0].min() - 0.5, X[:, 0].max() + 0.5, num=50)\ny_vals = np.linspace(X[:, 1].min() - 0.5, X[:, 1].max() + 0.5, num=50)\nxx, yy = np.meshgrid(x_vals, y_vals)\ngrid_inputs = np.c_[xx.ravel(), yy.ravel()]\nzz = model.predict(grid_inputs).reshape((50, 50))\n\nplt.contourf(xx, yy, zz, alpha=0.3, cmap=plt.cm.Spectral)\nplt.scatter(X[:, 0], X[:, 1], c=y_pred)\nplt.axis(\"off\")\nplt.show()"
      ]
    }
  ],
  "metadata": {
    "kernelspec": {
      "display_name": "Python 3",
      "language": "python",
      "name": "python3"
    },
    "language_info": {
      "codemirror_mode": {
        "name": "ipython",
        "version": 3
      },
      "file_extension": ".py",
      "mimetype": "text/x-python",
      "name": "python",
      "nbconvert_exporter": "python",
      "pygments_lexer": "ipython3",
      "version": "3.10.16"
    }
  },
  "nbformat": 4,
  "nbformat_minor": 0
}