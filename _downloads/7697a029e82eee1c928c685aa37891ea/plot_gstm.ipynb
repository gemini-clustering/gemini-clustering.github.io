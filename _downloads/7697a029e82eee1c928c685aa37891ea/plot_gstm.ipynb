{
  "cells": [
    {
      "cell_type": "markdown",
      "metadata": {},
      "source": [
        "\n# Example of decision boundary map for a mixture of Gaussian and low-degree Student distributions\n\nThis example is a retake from the experiment in the original GEMINI paper where we want to find the true clusters\nin a mixture of Gaussian that incorporates a low-degree-of-freedom student t-distribution. Consequently, this\ndistribution generates sample that may seem like outliers if we are to expect only Gaussian distribution.\n\nUnlike the paper, this example here is done with the `gemclus.linear.LinearWasserstein` instead of an MLP.\n"
      ]
    },
    {
      "cell_type": "code",
      "execution_count": null,
      "metadata": {
        "collapsed": false
      },
      "outputs": [],
      "source": [
        "import numpy as np\nfrom matplotlib import pyplot as plt\n\nfrom gemclus.data import gstm\nfrom gemclus.linear import LinearWasserstein"
      ]
    },
    {
      "cell_type": "markdown",
      "metadata": {},
      "source": [
        "## Generate the data\n\n\n"
      ]
    },
    {
      "cell_type": "markdown",
      "metadata": {},
      "source": [
        "Taking 200 samples, 1 degree of freedom and not-so-far apart means\n\n"
      ]
    },
    {
      "cell_type": "code",
      "execution_count": null,
      "metadata": {
        "collapsed": false
      },
      "outputs": [],
      "source": [
        "X, y = gstm(n=200, alpha=3, df=1, random_state=0)"
      ]
    },
    {
      "cell_type": "markdown",
      "metadata": {},
      "source": [
        "## Train the model for clustering\n\n\n"
      ]
    },
    {
      "cell_type": "code",
      "execution_count": null,
      "metadata": {
        "collapsed": false
      },
      "outputs": [],
      "source": [
        "clf = LinearWasserstein(n_clusters=4, random_state=0, batch_size=50)\ny_pred = clf.fit_predict(X)"
      ]
    },
    {
      "cell_type": "markdown",
      "metadata": {},
      "source": [
        "## Final Clustering\n\n"
      ]
    },
    {
      "cell_type": "code",
      "execution_count": null,
      "metadata": {
        "collapsed": false
      },
      "outputs": [],
      "source": [
        "# Now, generate as well grid inputs to help drawing the decision boundary\nx_vals = np.linspace(-10, 10, num=50)\ny_vals = np.linspace(-10, 10, num=50)\nxx, yy = np.meshgrid(x_vals, y_vals)\ngrid_inputs = np.c_[xx.ravel(), yy.ravel()]\nzz = clf.predict(grid_inputs).reshape((50, 50))\n\n# Plot decision boundary with predictions on top\nplt.contourf(xx, yy, zz, alpha=0.5, cmap=\"Blues\")\nplt.scatter(X[:, 0], X[:, 1], c=y_pred, cmap=\"Reds_r\")\n\nplt.xlim(-10, 10)\nplt.ylim(-10, 10)\n\nplt.xlabel('Feature 1')\nplt.ylabel('Feature 2')\n\nplt.show()"
      ]
    }
  ],
  "metadata": {
    "kernelspec": {
      "display_name": "Python 3",
      "language": "python",
      "name": "python3"
    },
    "language_info": {
      "codemirror_mode": {
        "name": "ipython",
        "version": 3
      },
      "file_extension": ".py",
      "mimetype": "text/x-python",
      "name": "python",
      "nbconvert_exporter": "python",
      "pygments_lexer": "ipython3",
      "version": "3.10.13"
    }
  },
  "nbformat": 4,
  "nbformat_minor": 0
}