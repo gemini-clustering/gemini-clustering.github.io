{
  "cells": [
    {
      "cell_type": "code",
      "execution_count": null,
      "metadata": {
        "collapsed": false
      },
      "outputs": [],
      "source": [
        "%matplotlib inline"
      ]
    },
    {
      "cell_type": "markdown",
      "metadata": {},
      "source": [
        "\n# Non parametric clustering\n\nThis example illustrates how we can run nonparametric clustering using GEMINI.\n"
      ]
    },
    {
      "cell_type": "code",
      "execution_count": null,
      "metadata": {
        "collapsed": false
      },
      "outputs": [],
      "source": [
        "import numpy as np\nfrom matplotlib import pyplot as plt\nfrom sklearn import metrics\n\nfrom gemclus import data\nfrom gemclus.nonparametric import CategoricalMMD"
      ]
    },
    {
      "cell_type": "markdown",
      "metadata": {},
      "source": [
        "## Draw samples from a GMM\n\n"
      ]
    },
    {
      "cell_type": "code",
      "execution_count": null,
      "metadata": {
        "collapsed": false
      },
      "outputs": [],
      "source": [
        "# Generate samples on that are simple to separate\nN = 100  # Number of nodes in the graph\n# GMM parameters\nmeans = np.array([[1, -1], [1, 1], [-1, -1], [-1, 1]])*2\ncovariances = [np.eye(2)*0.5]*4\nX, y = data.draw_gmm(N, means, covariances, np.ones(4) / 4, random_state=1789)"
      ]
    },
    {
      "cell_type": "markdown",
      "metadata": {},
      "source": [
        "## Train the model\nCreate the Non parametric GEMINI clustering model and call the .fit method to optimise the cluster\nassignment of the nodes\n\n"
      ]
    },
    {
      "cell_type": "code",
      "execution_count": null,
      "metadata": {
        "collapsed": false
      },
      "outputs": [],
      "source": [
        "model = CategoricalMMD(n_clusters=4, ovo=True, random_state=0, learning_rate=1e-2)\ny_pred = model.fit_predict(X)"
      ]
    },
    {
      "cell_type": "markdown",
      "metadata": {},
      "source": [
        "## Final Clustering\n\n"
      ]
    },
    {
      "cell_type": "code",
      "execution_count": null,
      "metadata": {
        "collapsed": false
      },
      "outputs": [],
      "source": [
        "plt.scatter(X[:, 0], X[:, 1], c=y_pred)\nplt.show()\n\nari_score = metrics.adjusted_rand_score(y, y_pred)\ngemini_score = model.score(X)\nprint(f\"Final ARI score: {ari_score:.3f}\")\nprint(f\"GEMINI score is {gemini_score:.3f}\")"
      ]
    }
  ],
  "metadata": {
    "kernelspec": {
      "display_name": "Python 3",
      "language": "python",
      "name": "python3"
    },
    "language_info": {
      "codemirror_mode": {
        "name": "ipython",
        "version": 3
      },
      "file_extension": ".py",
      "mimetype": "text/x-python",
      "name": "python",
      "nbconvert_exporter": "python",
      "pygments_lexer": "ipython3",
      "version": "3.9.16"
    }
  },
  "nbformat": 4,
  "nbformat_minor": 0
}