{
  "cells": [
    {
      "cell_type": "markdown",
      "metadata": {},
      "source": [
        "\n# Consensus clustering with linking constraints on sample pairs\n\nWe show in this example how to:\n\n#. Perform consensus clustering using gemclus\n#. Improve the results by enforcing constraints on the clustering models\n\nConsensus clustering is loosely an equivalent to ensemble methods in\nunsupervised learning where we seek to find a clustering in agreeance\nwith multiple clustering methods. A matrix describing the ratio of\ntimes samples were clustered together is used as a metric to provide\nguidance for a final clustering model.\n\nThen, to ensure that some samples remain together or apart, we add\n`must-link` / `cannot-link` constraints on the clustering model. While\nnot all constraints may be satisfied, the proposed solution will try\nits best to be in agreeance with the low-level clustering results\nand the supervised inputs.\n\nThe advantage of such constraints is that they do not require knowledge\non the true class of the data, but rather a simple idea of whether samples\ncan go together or not.\n"
      ]
    },
    {
      "cell_type": "code",
      "execution_count": null,
      "metadata": {
        "collapsed": false
      },
      "outputs": [],
      "source": [
        "# We start by loading \nfrom gemclus.nonparametric import CategoricalWasserstein\nfrom gemclus.linear import LinearMMD\nfrom gemclus.data import celeux_one\nfrom gemclus import add_mlcl_constraint\nimport itertools\nimport numpy as np\nfrom sklearn import metrics\nimport matplotlib.pyplot as plt"
      ]
    },
    {
      "cell_type": "markdown",
      "metadata": {},
      "source": [
        "## Load the dataset\n\n"
      ]
    },
    {
      "cell_type": "code",
      "execution_count": null,
      "metadata": {
        "collapsed": false
      },
      "outputs": [],
      "source": [
        "# We take a small challenging dataset with 3 clusters where the true cluster means are close\nX,y = celeux_one(n=100, p=5, mu=0.6, random_state = 0)"
      ]
    },
    {
      "cell_type": "markdown",
      "metadata": {},
      "source": [
        "## Multiple model clustering\n\n"
      ]
    },
    {
      "cell_type": "code",
      "execution_count": null,
      "metadata": {
        "collapsed": false
      },
      "outputs": [],
      "source": [
        "# We fit several model on this dataset with various kernel\nnp.random.seed(0)\nall_models = [LinearMMD(n_clusters=3, kernel=x, learning_rate=1e-2, ovo=True) for x in [\"linear\", \"cosine\", \"sigmoid\", \"rbf\"]]\nfor i in range(len(all_models)):\n    all_models[i].fit(X)\n\n# How do our models perform on this dataset?\nfor model in all_models:\n    print(\"Sub-model ARI: \", metrics.adjusted_rand_score(model.predict(X), y))"
      ]
    },
    {
      "cell_type": "markdown",
      "metadata": {},
      "source": [
        "## Build the consensus matrix\n\n"
      ]
    },
    {
      "cell_type": "code",
      "execution_count": null,
      "metadata": {
        "collapsed": false
      },
      "outputs": [],
      "source": [
        "# Build the consensus matrix, i.e. the number of times pairs of samples\n# were in the same cluster\nconsensus_matrix = np.zeros(shape=(len(X), len(X)))\nfor i in range(len(all_models)):\n    y_pred = all_models[i].predict(X)\n    for i,j in itertools.combinations_with_replacement(range(len(X)), r=2):\n        consensus_matrix[i,j] += int(y_pred[i]==y_pred[j])\n        consensus_matrix[j,i] = consensus_matrix[i,j]\nconsensus_matrix /= len(all_models)"
      ]
    },
    {
      "cell_type": "markdown",
      "metadata": {},
      "source": [
        "## Create the consensus clustering model\nWe will use a nonparametric model and provide `1-consensus_matrix` as\nthe precomputed metric for the model.\nNotice that the parameter X is here for API consistency, although\nsuperfluous\n\n"
      ]
    },
    {
      "cell_type": "code",
      "execution_count": null,
      "metadata": {
        "collapsed": false
      },
      "outputs": [],
      "source": [
        "consensus_model = CategoricalWasserstein(n_clusters=3, random_state = 0, metric=\"precomputed\")\nconsensus_model.fit(X, 1-consensus_matrix)\ny_pred_consensus = consensus_model.predict_proba(X)\n\n# What are our consensus performances?\nprint(\"Consensus ARI: \", metrics.adjusted_rand_score(y_pred_consensus.argmax(1), y))"
      ]
    },
    {
      "cell_type": "markdown",
      "metadata": {},
      "source": [
        "## Optimise the results with linking constraints\nWe will enforce some pairs of samples to be together or apart.\nWhile in this simulation we use the class `y` to extrapolate this pairs,\nreal life situation would emphasize more on a field expert to provide\nsuch knowledge.\n\n"
      ]
    },
    {
      "cell_type": "markdown",
      "metadata": {},
      "source": [
        "We will try to use the samples that have the most confident predictions\n\n"
      ]
    },
    {
      "cell_type": "code",
      "execution_count": null,
      "metadata": {
        "collapsed": false
      },
      "outputs": [],
      "source": [
        "sorted_confidence_samples = sorted(range(len(X)), key=lambda i: y_pred_consensus[i].max(), reverse=True)\n\nmust_link = []\nunsure_sample_pairs = itertools.combinations(sorted_confidence_samples, 2)\nwhile len(must_link)!=10:\n    i,j = next(unsure_sample_pairs)\n    if y[i]==y[j] and y_pred_consensus[i].argmax()!=y_pred_consensus[j].argmax():\n        if (i,j) not in must_link:\n            must_link += [(i,j)] # Sample i and j must be together\n\ncannot_link = []\nunsure_sample_pairs = itertools.combinations(sorted_confidence_samples, 2)\nwhile len(cannot_link)!=10:\n    i,j = next(unsure_sample_pairs)\n    if y[i]!=y[j] and y_pred_consensus[i].argmax()==y_pred_consensus[j].argmax():\n        if (i,j) not in must_link:\n            cannot_link += [(i,j)] # Sample i and j should not be together"
      ]
    },
    {
      "cell_type": "markdown",
      "metadata": {},
      "source": [
        "## Add must-link / cannot-link constraint\nWe start over with the same model for consensus\n\n"
      ]
    },
    {
      "cell_type": "code",
      "execution_count": null,
      "metadata": {
        "collapsed": false
      },
      "outputs": [],
      "source": [
        "base_model = CategoricalWasserstein(n_clusters=3, random_state=0, metric=\"precomputed\")\n# This line decorates the base model to enforce must-link / cannot-link constraints\nmlcl_consensus_model = add_mlcl_constraint(base_model, must_link, cannot_link)\n\nmlcl_consensus_model.fit(X, 1-consensus_matrix)\n\ny_pred_mlcl_consensus = mlcl_consensus_model.predict(X)\n\nprint(\"ARI of constrained consensus: \", metrics.adjusted_rand_score(y, y_pred_mlcl_consensus))"
      ]
    },
    {
      "cell_type": "markdown",
      "metadata": {},
      "source": [
        "## Plotting the consensus matrix\n\n"
      ]
    },
    {
      "cell_type": "code",
      "execution_count": null,
      "metadata": {
        "collapsed": false
      },
      "outputs": [],
      "source": [
        "consensus_order = np.argsort(y_pred_mlcl_consensus)\nplt.imshow(consensus_matrix[consensus_order][:,consensus_order], cmap=\"seismic\")\nplt.show()"
      ]
    }
  ],
  "metadata": {
    "kernelspec": {
      "display_name": "Python 3",
      "language": "python",
      "name": "python3"
    },
    "language_info": {
      "codemirror_mode": {
        "name": "ipython",
        "version": 3
      },
      "file_extension": ".py",
      "mimetype": "text/x-python",
      "name": "python",
      "nbconvert_exporter": "python",
      "pygments_lexer": "ipython3",
      "version": "3.10.13"
    }
  },
  "nbformat": 4,
  "nbformat_minor": 0
}