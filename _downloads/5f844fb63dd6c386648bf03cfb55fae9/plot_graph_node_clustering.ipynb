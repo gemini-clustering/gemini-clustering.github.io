{
  "cells": [
    {
      "cell_type": "code",
      "execution_count": null,
      "metadata": {
        "collapsed": false
      },
      "outputs": [],
      "source": [
        "%matplotlib inline"
      ]
    },
    {
      "cell_type": "markdown",
      "metadata": {},
      "source": [
        "\n# Graph node clustering with a nonparametric model\n\nWe create here a random graph by following a simplified version of the `Latent Position Model` generative procedure.\nTo create the graph, we sample latent positions from a Gaussian Mixture Model and create a graph with as many nodes\nas samples. Edges are then determined according to probability depending only on the distance between samples.\n\nTo perform clustering, we then use a nonparametric model which will associated to each node a clustering probability.\nWe indicate to this model a specific distance that is adequate for our graph nodes. Note that the parameters given to\nthe `fit` function instead of the data is a simple identity matrix.\n"
      ]
    },
    {
      "cell_type": "code",
      "execution_count": null,
      "metadata": {
        "collapsed": false
      },
      "outputs": [],
      "source": [
        "import itertools\n\nimport numpy as np\nfrom matplotlib import pyplot as plt\nfrom scipy.sparse import csgraph\nfrom sklearn import metrics\n\nfrom gemclus import data\nfrom gemclus.nonparametric import CategoricalWasserstein"
      ]
    },
    {
      "cell_type": "markdown",
      "metadata": {},
      "source": [
        "## Draw samples from a GMM\n\n"
      ]
    },
    {
      "cell_type": "code",
      "execution_count": null,
      "metadata": {
        "collapsed": false
      },
      "outputs": [],
      "source": [
        "# Generate samples on that are simple to separate\nN = 100  # Number of nodes in the graph\n# GMM parameters\nmeans = np.array([[1, -1], [1, 1], [-1, -1], [-1, 1]])*3\ncovariances = [np.eye(2)]*4\nX, y = data.draw_gmm(N, means, covariances, np.ones(4) / 4, random_state=0)"
      ]
    },
    {
      "cell_type": "markdown",
      "metadata": {},
      "source": [
        "## Create the graph edges\n\n"
      ]
    },
    {
      "cell_type": "code",
      "execution_count": null,
      "metadata": {
        "collapsed": false
      },
      "outputs": [],
      "source": [
        "distances = metrics.pairwise_distances(X, metric=\"euclidean\")\nedge_probs = np.exp(-distances)\n\nnp.random.seed(0)\nadjacency_matrix = np.random.binomial(n=1, p=edge_probs)  # Determine if there is an edge from node i->j\n\n# Make the adjacency matrix symmetric\nadjacency_matrix = np.maximum(adjacency_matrix, adjacency_matrix.T)"
      ]
    },
    {
      "cell_type": "markdown",
      "metadata": {},
      "source": [
        "## Pre-compute a specific metric between samples\n\n"
      ]
    },
    {
      "cell_type": "code",
      "execution_count": null,
      "metadata": {
        "collapsed": false
      },
      "outputs": [],
      "source": [
        "# compute the all-pairs shortest path in this graph\ndistances = csgraph.floyd_warshall(adjacency_matrix, directed=False, unweighted=True)\n\n# Replace np.inf with 2 times the size of the matrix\ndistances[np.isinf(distances)] = 2 * distances.shape[0]"
      ]
    },
    {
      "cell_type": "markdown",
      "metadata": {},
      "source": [
        "## Train the model\nCreate the Non parametric GEMINI clustering model and call the .fit method to optimise the cluster\nassignment of the nodes\n\n"
      ]
    },
    {
      "cell_type": "code",
      "execution_count": null,
      "metadata": {
        "collapsed": false
      },
      "outputs": [],
      "source": [
        "# We specify a custom metric and will pass the distance matrix to the `y` argument of `.fit`.\nmodel = CategoricalWasserstein(n_clusters=4, metric=\"precomputed\", ovo=True, random_state=1789, learning_rate=1e-1)\n# In the nonparametric model, X is a dummy unnecessary variable because the parameters do not depend on the values\n# of X. There is only an index matching.\ny_pred = model.fit_predict(np.eye(N), y=distances)"
      ]
    },
    {
      "cell_type": "markdown",
      "metadata": {},
      "source": [
        "## Final Clustering\n\n"
      ]
    },
    {
      "cell_type": "code",
      "execution_count": null,
      "metadata": {
        "collapsed": false
      },
      "outputs": [],
      "source": [
        "for node_i, node_j in itertools.combinations(range(N),2):\n    if adjacency_matrix[node_i,node_j]:\n        plt.plot([X[node_i,0],X[node_j,0]], [X[node_i,1],X[node_j,1]], c=\"gray\",linewidth=1,alpha=0.5)\nplt.scatter(X[:, 0], X[:, 1], c=y_pred, s=50)\nplt.show()\n\nari_score = metrics.adjusted_rand_score(y, y_pred)\ngemini_score = model.score(np.eye(N), y=distances)\nprint(f\"Final ARI score: {ari_score:.3f}\")\nprint(f\"GEMINI score is {gemini_score:.3f}\")"
      ]
    }
  ],
  "metadata": {
    "kernelspec": {
      "display_name": "Python 3",
      "language": "python",
      "name": "python3"
    },
    "language_info": {
      "codemirror_mode": {
        "name": "ipython",
        "version": 3
      },
      "file_extension": ".py",
      "mimetype": "text/x-python",
      "name": "python",
      "nbconvert_exporter": "python",
      "pygments_lexer": "ipython3",
      "version": "3.9.16"
    }
  },
  "nbformat": 4,
  "nbformat_minor": 0
}