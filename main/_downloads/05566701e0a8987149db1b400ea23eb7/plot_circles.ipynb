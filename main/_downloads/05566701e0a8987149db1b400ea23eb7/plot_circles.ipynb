{
  "cells": [
    {
      "cell_type": "markdown",
      "metadata": {},
      "source": [
        "\n# Comparative clustering of circles dataset with kernel change\n\nWe show here a simple dataset consisting in two centred circle that can be challenging for some clustering algorithms.\nThis dataset can be challenging for GEMINI as well, unless we change the kernel adequately.\n"
      ]
    },
    {
      "cell_type": "code",
      "execution_count": null,
      "metadata": {
        "collapsed": false
      },
      "outputs": [],
      "source": [
        "import numpy as np\nfrom matplotlib import pyplot as plt\nfrom sklearn import datasets, metrics\nfrom sklearn.cluster import SpectralClustering\nfrom sklearn.mixture import GaussianMixture\n\nfrom gemclus import mlp"
      ]
    },
    {
      "cell_type": "markdown",
      "metadata": {},
      "source": [
        "## Draw samples for the circle dataset\n\n"
      ]
    },
    {
      "cell_type": "code",
      "execution_count": null,
      "metadata": {
        "collapsed": false
      },
      "outputs": [],
      "source": [
        "# We start by generating samples distributed on two circles\nX, y = datasets.make_circles(n_samples=200, noise=0.05, factor=0.05, random_state=0)\n\n# then normalise the data\nX = (X - np.mean(X, 0)) / np.std(X, ddof=0)\n\n# Have a look at it\nplt.scatter(X[:, 0], X[:, 1], c=y)\nplt.axis(\"off\")\nplt.ylim((-3, 3))\nplt.ylim((-3, 3))\nplt.show()"
      ]
    },
    {
      "cell_type": "markdown",
      "metadata": {},
      "source": [
        "## Training clustering models\n\n"
      ]
    },
    {
      "cell_type": "code",
      "execution_count": null,
      "metadata": {
        "collapsed": false
      },
      "outputs": [],
      "source": [
        "# Gaussian mixture model\n# We set the covariance type to *spherical* to lighten the number of parameters in correspondence\n# to the symmetry of the data\n# We ease the job by proposing a initialisation of the means close to the actual means\ngm = GaussianMixture(n_components=2, covariance_type='spherical', means_init=np.zeros((2, 2)),\n                     max_iter=1000, random_state=0).fit(X)\n\n# Spectral clustering\nsc = SpectralClustering(n_clusters=2, random_state=0).fit(X)\n\n# MMD MLP with linear kernel\n# We use multi layered perceptrons because a linear model is incapable of drawing the optimal decision boundary\neuclidean_gemini = mlp.MLPMMD(n_clusters=2, random_state=0).fit(X)\n\n# Then we take a similar model but use the RBF kernel for the computation of MMD\nrbf_gemini = mlp.MLPMMD(n_clusters=2, kernel=\"rbf\", random_state=0).fit(X)"
      ]
    },
    {
      "cell_type": "markdown",
      "metadata": {},
      "source": [
        "## Display predictions and decision boundaries\n\n"
      ]
    },
    {
      "cell_type": "code",
      "execution_count": null,
      "metadata": {
        "collapsed": false
      },
      "outputs": [],
      "source": [
        "# We generate a grid of values for showing the decision boundary\nx_vals = np.linspace(X[:, 0].min() - 0.5, X[:, 0].max() + 0.5, num=50)\ny_vals = np.linspace(X[:, 1].min() - 0.5, X[:, 1].max() + 0.5, num=50)\n\nxx, yy = np.meshgrid(x_vals, y_vals)\ngrid_inputs = np.c_[xx.ravel(), yy.ravel()]\n\n# Plot for the Gaussian mixture\nplt.subplot(2, 2, 1)\nplt.contourf(xx, yy, gm.predict(grid_inputs).reshape((50, 50)),\n             alpha=0.3, cmap=plt.cm.Spectral)\nplt.scatter(X[:, 0], X[:, 1], c=gm.predict(X))\nplt.axis(\"off\")\nplt.title(\"Gaussian mixture\")\n\n# Plot for the spectral clustering (cannot draw decision boundary)\nplt.subplot(2, 2, 2)\nplt.scatter(X[:, 0], X[:, 1], c=sc.labels_)\nplt.axis(\"off\")\nplt.title(\"Spectral clustering\")\n\n# Plot for the MMD MLP GEMINI with linear kernel\nplt.subplot(2, 2, 3)\nplt.contourf(xx, yy, euclidean_gemini.predict(grid_inputs).reshape((50, 50)),\n             alpha=0.3, cmap=plt.cm.Spectral)\nplt.scatter(X[:, 0], X[:, 1], c=euclidean_gemini.predict(X))\nplt.axis(\"off\")\nplt.title(\"MMD GEMINI (linear kernel)\")\n\n# Plot for the MMD MLP GEMINI with RBF kernel\nplt.subplot(2, 2, 4)\nplt.contourf(xx, yy, rbf_gemini.predict(grid_inputs).reshape((50, 50)),\n             alpha=0.3, cmap=plt.cm.Spectral)\nplt.scatter(X[:, 0], X[:, 1], c=rbf_gemini.predict(X))\nplt.axis(\"off\")\nplt.title(\"MMD GEMINI (rbf kernel)\")\n\nplt.tight_layout()\nplt.show()"
      ]
    }
  ],
  "metadata": {
    "kernelspec": {
      "display_name": "Python 3",
      "language": "python",
      "name": "python3"
    },
    "language_info": {
      "codemirror_mode": {
        "name": "ipython",
        "version": 3
      },
      "file_extension": ".py",
      "mimetype": "text/x-python",
      "name": "python",
      "nbconvert_exporter": "python",
      "pygments_lexer": "ipython3",
      "version": "3.10.16"
    }
  },
  "nbformat": 4,
  "nbformat_minor": 0
}