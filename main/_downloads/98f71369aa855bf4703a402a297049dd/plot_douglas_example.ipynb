{
  "cells": [
    {
      "cell_type": "markdown",
      "metadata": {},
      "source": [
        "\n# Building a differentiable unsupervised tree: DOUGLAS\n\nThis example shows how to use the Douglas tree for a dataset with few features.\n\nThe DOUGLAS model builds a differentiable tree by associating different constructed binnings of the data per feature\nto clusters. The thresholds are learnt by GEMINI maximisation.\n"
      ]
    },
    {
      "cell_type": "code",
      "execution_count": null,
      "metadata": {
        "collapsed": false
      },
      "outputs": [],
      "source": [
        "from sklearn import datasets, metrics\n\nfrom gemclus.tree import Douglas"
      ]
    },
    {
      "cell_type": "markdown",
      "metadata": {},
      "source": [
        "## Load the dataset\n\n"
      ]
    },
    {
      "cell_type": "code",
      "execution_count": null,
      "metadata": {
        "collapsed": false
      },
      "outputs": [],
      "source": [
        "iris = datasets.load_iris()\nX = iris[\"data\"]\ny = iris[\"target\"]"
      ]
    },
    {
      "cell_type": "markdown",
      "metadata": {},
      "source": [
        "## Create the douglas tree and fit it\n\n"
      ]
    },
    {
      "cell_type": "code",
      "execution_count": null,
      "metadata": {
        "collapsed": false
      },
      "outputs": [],
      "source": [
        "model = Douglas(n_clusters=3, gemini=\"mmd_ova\", max_iter=100, n_cuts=1)\ny_pred_linear = model.fit_predict(X)\n\nprint(\"Score of model is: \", model.score(X))\nprint(\"ARI of model is: \", metrics.adjusted_rand_score(y, y_pred_linear))"
      ]
    }
  ],
  "metadata": {
    "kernelspec": {
      "display_name": "Python 3",
      "language": "python",
      "name": "python3"
    },
    "language_info": {
      "codemirror_mode": {
        "name": "ipython",
        "version": 3
      },
      "file_extension": ".py",
      "mimetype": "text/x-python",
      "name": "python",
      "nbconvert_exporter": "python",
      "pygments_lexer": "ipython3",
      "version": "3.10.15"
    }
  },
  "nbformat": 4,
  "nbformat_minor": 0
}