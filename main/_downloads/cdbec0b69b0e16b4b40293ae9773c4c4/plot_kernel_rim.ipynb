{
  "cells": [
    {
      "cell_type": "markdown",
      "metadata": {},
      "source": [
        "\n# Clustering circles with kernel RIM\n\nWe show here a simple dataset consisting in two centred circle that can be challenging for some clustering algorithms.\nWe solve this case using the kernel RIM algorithm. This algorithm fits a logistic regression on the kernel\nmatrix derived from the dataset.\n"
      ]
    },
    {
      "cell_type": "code",
      "execution_count": null,
      "metadata": {
        "collapsed": false
      },
      "outputs": [],
      "source": [
        "from matplotlib import pyplot as plt\nfrom sklearn import datasets\nfrom sklearn import metrics\n\nfrom gemclus.linear import KernelRIM"
      ]
    },
    {
      "cell_type": "markdown",
      "metadata": {},
      "source": [
        "## Draw samples for the circle dataset\n\n"
      ]
    },
    {
      "cell_type": "code",
      "execution_count": null,
      "metadata": {
        "collapsed": false
      },
      "outputs": [],
      "source": [
        "# We start by generating samples distributed on two circles\nnoise = 0.05\nfactor = 0.1\nX, y = datasets.make_circles(n_samples=200, noise=noise, factor=factor, random_state=0)"
      ]
    },
    {
      "cell_type": "markdown",
      "metadata": {},
      "source": [
        "## Training clustering model\n\n"
      ]
    },
    {
      "cell_type": "code",
      "execution_count": null,
      "metadata": {
        "collapsed": false
      },
      "outputs": [],
      "source": [
        "model_kernel = KernelRIM(n_clusters=2, base_kernel=\"laplacian\", max_iter=1000, reg=4/len(X), random_state=0)\ny_pred = model_kernel.fit_predict(X)\nprint(f\"ARI = {metrics.adjusted_rand_score(y, y_pred)}\")"
      ]
    },
    {
      "cell_type": "markdown",
      "metadata": {},
      "source": [
        "## Show predictions on similar samples\n\n"
      ]
    },
    {
      "cell_type": "code",
      "execution_count": null,
      "metadata": {
        "collapsed": false
      },
      "outputs": [],
      "source": [
        "# Create a novel set of samples and cluster them\nnew_X, new_y = datasets.make_circles(n_samples=200, noise=noise, factor=factor, random_state=1)\nnew_pred = model_kernel.predict(new_X)\nprint(f\"ARI = {metrics.adjusted_rand_score(new_y, new_pred)}\")\n\n\nplt.scatter(X[:, 0], X[:, 1], c=y_pred, marker=\"+\", label=\"Training samples\")\nplt.scatter(new_X[:, 0], new_X[:, 1], c=new_pred, marker=\"o\", label=\"Testing samples\")\nplt.legend()\nplt.show()"
      ]
    }
  ],
  "metadata": {
    "kernelspec": {
      "display_name": "Python 3",
      "language": "python",
      "name": "python3"
    },
    "language_info": {
      "codemirror_mode": {
        "name": "ipython",
        "version": 3
      },
      "file_extension": ".py",
      "mimetype": "text/x-python",
      "name": "python",
      "nbconvert_exporter": "python",
      "pygments_lexer": "ipython3",
      "version": "3.10.13"
    }
  },
  "nbformat": 4,
  "nbformat_minor": 0
}