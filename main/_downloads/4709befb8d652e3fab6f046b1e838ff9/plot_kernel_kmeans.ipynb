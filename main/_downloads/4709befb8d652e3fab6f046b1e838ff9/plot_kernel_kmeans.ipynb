{
  "cells": [
    {
      "cell_type": "markdown",
      "metadata": {},
      "source": [
        "\n# Kernel KMeans clustering with GEMINI\n\nSince the MMD GEMINI objective is equivalent in OvO mode to a kernel KMeans objective, we can use it\nwith the nonparametric model that directly associates a cluster to each sample. The overall model\nwould thus behave as a kernel KMeans algorithm. However, its training is done by gradient descent.\n"
      ]
    },
    {
      "cell_type": "code",
      "execution_count": null,
      "metadata": {
        "collapsed": false
      },
      "outputs": [],
      "source": [
        "import numpy as np\nfrom matplotlib import pyplot as plt\nfrom sklearn import metrics, datasets\n\nfrom gemclus.nonparametric import CategoricalMMD"
      ]
    },
    {
      "cell_type": "markdown",
      "metadata": {},
      "source": [
        "## Draw samples from a circular dataset\n\n"
      ]
    },
    {
      "cell_type": "code",
      "execution_count": null,
      "metadata": {
        "collapsed": false
      },
      "outputs": [],
      "source": [
        "# We start by generating samples distributed on two circles\nX, y = datasets.make_circles(n_samples=200, noise=0.05, factor=0.05, random_state=0)\n\n# then normalise the data\nX = (X - np.mean(X, 0)) / np.std(X, ddof=0)\n\n# Have a look at it\nplt.scatter(X[:, 0], X[:, 1], c=y)\nplt.axis(\"off\")\nplt.ylim((-3, 3))\nplt.ylim((-3, 3))\nplt.show()"
      ]
    },
    {
      "cell_type": "markdown",
      "metadata": {},
      "source": [
        "## Train the model\nCreate the Non parametric GEMINI clustering model and call the .fit method to optimise the cluster\nassignment of the nodes\n\n"
      ]
    },
    {
      "cell_type": "code",
      "execution_count": null,
      "metadata": {
        "collapsed": false
      },
      "outputs": [],
      "source": [
        "model = CategoricalMMD(n_clusters=2, random_state=0, kernel=\"rbf\")\ny_pred = model.fit_predict(X)"
      ]
    },
    {
      "cell_type": "markdown",
      "metadata": {},
      "source": [
        "## Final Clustering\n\n"
      ]
    },
    {
      "cell_type": "code",
      "execution_count": null,
      "metadata": {
        "collapsed": false
      },
      "outputs": [],
      "source": [
        "plt.scatter(X[:, 0], X[:, 1], c=y_pred)\nplt.show()\n\nari_score = metrics.adjusted_rand_score(y, y_pred)\ngemini_score = model.score(X)\nprint(f\"Final ARI score: {ari_score:.3f}\")\nprint(f\"GEMINI score is {gemini_score:.3f}\")"
      ]
    }
  ],
  "metadata": {
    "kernelspec": {
      "display_name": "Python 3",
      "language": "python",
      "name": "python3"
    },
    "language_info": {
      "codemirror_mode": {
        "name": "ipython",
        "version": 3
      },
      "file_extension": ".py",
      "mimetype": "text/x-python",
      "name": "python",
      "nbconvert_exporter": "python",
      "pygments_lexer": "ipython3",
      "version": "3.10.16"
    }
  },
  "nbformat": 4,
  "nbformat_minor": 0
}