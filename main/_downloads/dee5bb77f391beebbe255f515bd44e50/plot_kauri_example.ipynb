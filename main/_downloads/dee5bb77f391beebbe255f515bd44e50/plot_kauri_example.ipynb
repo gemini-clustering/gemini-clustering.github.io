{
  "cells": [
    {
      "cell_type": "markdown",
      "metadata": {},
      "source": [
        "\n# Building an unsupervised tree with kernel-kmeans objective: KAURI\n\nWe show here how to obtain two different decision trees for clustering using two different kernels to accompanny\nthe KAURI method.\n\nThe KAURI model builds decision trees using gain metrics derived from the squared MMD-GEMINI which are equivalent\nto KMeans optimisation.\n"
      ]
    },
    {
      "cell_type": "code",
      "execution_count": null,
      "metadata": {
        "collapsed": false
      },
      "outputs": [],
      "source": [
        "from sklearn import datasets, metrics\nfrom gemclus.tree import Kauri, print_kauri_tree"
      ]
    },
    {
      "cell_type": "markdown",
      "metadata": {},
      "source": [
        "## Load the dataset\n\n"
      ]
    },
    {
      "cell_type": "code",
      "execution_count": null,
      "metadata": {
        "collapsed": false
      },
      "outputs": [],
      "source": [
        "iris = datasets.load_iris()\nX = iris[\"data\"]\ny = iris[\"target\"]"
      ]
    },
    {
      "cell_type": "markdown",
      "metadata": {},
      "source": [
        "## Create a first tree using a linear kernel\n\n"
      ]
    },
    {
      "cell_type": "code",
      "execution_count": null,
      "metadata": {
        "collapsed": false
      },
      "outputs": [],
      "source": [
        "# Notice that we limit the depth of the tree for simplicity\nlinear_model = Kauri(max_clusters=3, kernel=\"linear\", max_depth=3)\ny_pred_linear = linear_model.fit_predict(X)\n\nprint(\"Score of model is: \", linear_model.score(X))"
      ]
    },
    {
      "cell_type": "markdown",
      "metadata": {},
      "source": [
        "## Create a second tree using an additive chi2 kernel\n\n"
      ]
    },
    {
      "cell_type": "code",
      "execution_count": null,
      "metadata": {
        "collapsed": false
      },
      "outputs": [],
      "source": [
        "additive_chi2_model = Kauri(max_clusters=3, kernel=\"additive_chi2\", max_depth=3)\ny_pred_additive_chi2 = additive_chi2_model.fit_predict(X)\nprint(\"Score of model is: \", additive_chi2_model.score(X))"
      ]
    },
    {
      "cell_type": "markdown",
      "metadata": {},
      "source": [
        "## Evaluate the performances of the model\n\n"
      ]
    },
    {
      "cell_type": "code",
      "execution_count": null,
      "metadata": {
        "collapsed": false
      },
      "outputs": [],
      "source": [
        "print(\"ARI of linear kernel: \", metrics.adjusted_rand_score(y,y_pred_linear))\nprint(\"ARI of additive chi2 kernel: \", metrics.adjusted_rand_score(y,y_pred_additive_chi2))"
      ]
    },
    {
      "cell_type": "markdown",
      "metadata": {},
      "source": [
        "## Visualise the tree structure\n\n"
      ]
    },
    {
      "cell_type": "code",
      "execution_count": null,
      "metadata": {
        "collapsed": false
      },
      "outputs": [],
      "source": [
        "print(\"Structure of the additive chi2 model\")\nprint_kauri_tree(additive_chi2_model, iris[\"feature_names\"])"
      ]
    }
  ],
  "metadata": {
    "kernelspec": {
      "display_name": "Python 3",
      "language": "python",
      "name": "python3"
    },
    "language_info": {
      "codemirror_mode": {
        "name": "ipython",
        "version": 3
      },
      "file_extension": ".py",
      "mimetype": "text/x-python",
      "name": "python",
      "nbconvert_exporter": "python",
      "pygments_lexer": "ipython3",
      "version": "3.10.15"
    }
  },
  "nbformat": 4,
  "nbformat_minor": 0
}