{
  "cells": [
    {
      "cell_type": "markdown",
      "metadata": {},
      "source": [
        "\n# Scoring any model with GEMINI\n\nWe show in this example how we can score the prediction of another model using GEMINI. We do not seek to perform\nclustering but rather to evaluate.\n"
      ]
    },
    {
      "cell_type": "code",
      "execution_count": null,
      "metadata": {
        "collapsed": false
      },
      "outputs": [],
      "source": [
        "import numpy as np\nfrom sklearn import datasets, preprocessing, linear_model, naive_bayes\nfrom gemclus import gemini"
      ]
    },
    {
      "cell_type": "markdown",
      "metadata": {},
      "source": [
        "## Load a simple real dataset\n\n"
      ]
    },
    {
      "cell_type": "code",
      "execution_count": null,
      "metadata": {
        "collapsed": false
      },
      "outputs": [],
      "source": [
        "X, y = datasets.load_breast_cancer(return_X_y=True)\n# Preprocess this dataset\nX = preprocessing.RobustScaler().fit_transform(X)"
      ]
    },
    {
      "cell_type": "markdown",
      "metadata": {},
      "source": [
        "## Train two supervised models\nWe will train two different models on the breast cancer dataset\n\n"
      ]
    },
    {
      "cell_type": "code",
      "execution_count": null,
      "metadata": {
        "collapsed": false
      },
      "outputs": [],
      "source": [
        "# The first model is a simple logistic regression with l2 penalty\nclf1 = linear_model.LogisticRegression(random_state=0).fit(X, y)\np_y_given_x_1 = clf1.predict_proba(X)\n\n# The second model is naive Bayes using Gaussian hypotheses on the data\nclf2 = naive_bayes.GaussianNB().fit(X, y)\np_y_given_x_2 = clf2.predict_proba(X)"
      ]
    },
    {
      "cell_type": "markdown",
      "metadata": {},
      "source": [
        "## Scoring with GEMINI\nWe can now score the clustering performances of both model with GEMINI.\n\n"
      ]
    },
    {
      "cell_type": "code",
      "execution_count": null,
      "metadata": {
        "collapsed": false
      },
      "outputs": [],
      "source": [
        "# Let's start with the WassersteinGEMINI (one-vs-all) and the Euclidean distance\nwasserstein_scoring = gemini.WassersteinGEMINI(metric=\"euclidean\")\n\n# We need to precompute the affinity matching this Wasserstein (will be the Euclidean metric here)\naffinity = wasserstein_scoring.compute_affinity(X)\nclf1_score = wasserstein_scoring.evaluate(p_y_given_x_1, affinity)\nclf2_score = wasserstein_scoring.evaluate(p_y_given_x_2, affinity)\n\nprint(\"Wasserstein OvA (Euclidean):\")\nprint(f\"\\t=>Linear regression: {clf1_score:.3f}\")\nprint(f\"\\t=>Naive Bayes: {clf2_score:.3f}\")"
      ]
    },
    {
      "cell_type": "markdown",
      "metadata": {},
      "source": [
        "## Supervised Scoring with GEMINI\nBy replacing the Euclidean distance for a label-informed distance\nwe can obtain a supervised metric.\n\n"
      ]
    },
    {
      "cell_type": "markdown",
      "metadata": {},
      "source": [
        "We now specify that the metric is precomputed instead\n\n"
      ]
    },
    {
      "cell_type": "code",
      "execution_count": null,
      "metadata": {
        "collapsed": false
      },
      "outputs": [],
      "source": [
        "wasserstein_scoring = gemini.WassersteinGEMINI(metric=\"precomputed\")\n\n# So, we precompute a distance where samples have distance 0 if they share the same label, 1 otherwise\ny_one_hot = np.eye(2)[y]\nprecomputed_distance = 1 - np.matmul(y_one_hot, y_one_hot.T)\nclf1_score = wasserstein_scoring.evaluate(p_y_given_x_1, precomputed_distance)\nclf2_score = wasserstein_scoring.evaluate(p_y_given_x_2, precomputed_distance)\n\nprint(\"Wasserstein OvA (Supervised):\")\nprint(f\"\\t=>Linear regression: {clf1_score:.3f}\")\nprint(f\"\\t=>Naive Bayes: {clf2_score:.3f}\")"
      ]
    }
  ],
  "metadata": {
    "kernelspec": {
      "display_name": "Python 3",
      "language": "python",
      "name": "python3"
    },
    "language_info": {
      "codemirror_mode": {
        "name": "ipython",
        "version": 3
      },
      "file_extension": ".py",
      "mimetype": "text/x-python",
      "name": "python",
      "nbconvert_exporter": "python",
      "pygments_lexer": "ipython3",
      "version": "3.10.15"
    }
  },
  "nbformat": 4,
  "nbformat_minor": 0
}